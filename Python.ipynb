{
 "cells": [
  {
   "cell_type": "markdown",
   "id": "86046abf",
   "metadata": {},
   "source": [
    "# print output"
   ]
  },
  {
   "cell_type": "code",
   "execution_count": 1,
   "id": "3bad2d87",
   "metadata": {},
   "outputs": [
    {
     "name": "stdout",
     "output_type": "stream",
     "text": [
      "Hello World\n"
     ]
    }
   ],
   "source": [
    "#python is csae sensitive\n",
    "print(\"Hello World\")"
   ]
  },
  {
   "cell_type": "code",
   "execution_count": 2,
   "id": "1625b413",
   "metadata": {},
   "outputs": [
    {
     "name": "stdout",
     "output_type": "stream",
     "text": [
      "amit 19 True\n"
     ]
    }
   ],
   "source": [
    "print(\"amit\",19,True)"
   ]
  },
  {
   "cell_type": "code",
   "execution_count": 3,
   "id": "54e36fff",
   "metadata": {},
   "outputs": [
    {
     "name": "stdout",
     "output_type": "stream",
     "text": [
      "amit/19/True\n"
     ]
    }
   ],
   "source": [
    "print(\"amit\",19,True,sep='/')"
   ]
  },
  {
   "cell_type": "code",
   "execution_count": 4,
   "id": "2599adb6",
   "metadata": {},
   "outputs": [
    {
     "name": "stdout",
     "output_type": "stream",
     "text": [
      "amit_amritansh\n"
     ]
    }
   ],
   "source": [
    "print(\"amit\" ,end='_')\n",
    "print(\"amritansh\")"
   ]
  },
  {
   "cell_type": "markdown",
   "id": "4b7b83a9",
   "metadata": {},
   "source": [
    "# data type"
   ]
  },
  {
   "cell_type": "code",
   "execution_count": 5,
   "id": "5ecd42d1",
   "metadata": {},
   "outputs": [
    {
     "name": "stdout",
     "output_type": "stream",
     "text": [
      "8\n"
     ]
    }
   ],
   "source": [
    "#integer\n",
    "print(8)"
   ]
  },
  {
   "cell_type": "code",
   "execution_count": 6,
   "id": "3575a650",
   "metadata": {},
   "outputs": [
    {
     "name": "stdout",
     "output_type": "stream",
     "text": [
      "8.55\n"
     ]
    }
   ],
   "source": [
    "#decimal\n",
    "print(8.55)"
   ]
  },
  {
   "cell_type": "code",
   "execution_count": 7,
   "id": "275bfb74",
   "metadata": {},
   "outputs": [
    {
     "name": "stdout",
     "output_type": "stream",
     "text": [
      "True\n"
     ]
    }
   ],
   "source": [
    "#boolean\n",
    "print(True)"
   ]
  },
  {
   "cell_type": "code",
   "execution_count": 8,
   "id": "f271b4bd",
   "metadata": {},
   "outputs": [
    {
     "name": "stdout",
     "output_type": "stream",
     "text": [
      "hii amit\n"
     ]
    }
   ],
   "source": [
    "#text/string\n",
    "print(\"hii amit\")"
   ]
  },
  {
   "cell_type": "code",
   "execution_count": 9,
   "id": "18f41001",
   "metadata": {},
   "outputs": [
    {
     "name": "stdout",
     "output_type": "stream",
     "text": [
      "(5+6j)\n"
     ]
    }
   ],
   "source": [
    "#complex\n",
    "print(5+6j)"
   ]
  },
  {
   "cell_type": "code",
   "execution_count": 10,
   "id": "9af31ccd",
   "metadata": {},
   "outputs": [
    {
     "name": "stdout",
     "output_type": "stream",
     "text": [
      "[1, 3, 2, 4, 56, 5]\n"
     ]
    }
   ],
   "source": [
    "#list\n",
    "print([1,3,2,4,56,5])"
   ]
  },
  {
   "cell_type": "code",
   "execution_count": 11,
   "id": "b6345078",
   "metadata": {},
   "outputs": [
    {
     "name": "stdout",
     "output_type": "stream",
     "text": [
      "(1, 2, 3, 5, 6, 4, 6)\n"
     ]
    }
   ],
   "source": [
    "#tuple\n",
    "print((1,2,3,5,6,4,6))"
   ]
  },
  {
   "cell_type": "code",
   "execution_count": 12,
   "id": "9caaa23d",
   "metadata": {},
   "outputs": [
    {
     "name": "stdout",
     "output_type": "stream",
     "text": [
      "{1, 2, 3, 4, 5, 6, 7}\n"
     ]
    }
   ],
   "source": [
    "#sets\n",
    "print({1,2,3,4,6,5,7,4})"
   ]
  },
  {
   "cell_type": "code",
   "execution_count": 13,
   "id": "d332144d",
   "metadata": {},
   "outputs": [
    {
     "name": "stdout",
     "output_type": "stream",
     "text": [
      "{'name': 'amit', 'gender': 'male', 'weight': 70}\n"
     ]
    }
   ],
   "source": [
    "#dictonary\n",
    "print({\n",
    "    'name':'amit','gender':'male','weight':70\n",
    "})"
   ]
  },
  {
   "cell_type": "code",
   "execution_count": 14,
   "id": "8e951f11",
   "metadata": {},
   "outputs": [
    {
     "data": {
      "text/plain": [
       "int"
      ]
     },
     "execution_count": 14,
     "metadata": {},
     "output_type": "execute_result"
    }
   ],
   "source": [
    "#type\n",
    "type(3)"
   ]
  },
  {
   "cell_type": "markdown",
   "id": "166ace27",
   "metadata": {},
   "source": [
    "# variables"
   ]
  },
  {
   "cell_type": "code",
   "execution_count": 15,
   "id": "e4f9276e",
   "metadata": {},
   "outputs": [
    {
     "name": "stdout",
     "output_type": "stream",
     "text": [
      "11\n"
     ]
    }
   ],
   "source": [
    "a=5\n",
    "b=6\n",
    "print(a+b)"
   ]
  },
  {
   "cell_type": "code",
   "execution_count": 16,
   "id": "06f74f70",
   "metadata": {},
   "outputs": [],
   "source": [
    "#dynamic typing\n",
    "#donot tell the data type of a variable\n",
    "a=5\n",
    "#static typing\n",
    "#int a=5"
   ]
  },
  {
   "cell_type": "code",
   "execution_count": 17,
   "id": "b097ce43",
   "metadata": {},
   "outputs": [
    {
     "name": "stdout",
     "output_type": "stream",
     "text": [
      "5\n",
      "amit\n"
     ]
    }
   ],
   "source": [
    "#dynamic binding change the datatype\n",
    "a=5\n",
    "print(a)\n",
    "a='amit'\n",
    "print(a)\n",
    "#static binding where we cannot change the data type\n",
    "a=5"
   ]
  },
  {
   "cell_type": "markdown",
   "id": "871a3aee",
   "metadata": {},
   "source": [
    "# keywords and identifier"
   ]
  },
  {
   "cell_type": "code",
   "execution_count": 18,
   "id": "8a3fa9dc",
   "metadata": {},
   "outputs": [],
   "source": [
    "#keywords\n",
    "#what we suggest the name is known as identifier\n",
    "#identifiers cannot be keywords"
   ]
  },
  {
   "cell_type": "markdown",
   "id": "ca921cc0",
   "metadata": {},
   "source": [
    "# user input"
   ]
  },
  {
   "cell_type": "code",
   "execution_count": 19,
   "id": "820b0af3",
   "metadata": {},
   "outputs": [],
   "source": [
    "#static vs dynamic\n",
    "#static cannnot talk to user it only gives information\n",
    "#dynamic can talk to user and gives input"
   ]
  },
  {
   "cell_type": "code",
   "execution_count": 20,
   "id": "0cb1d233",
   "metadata": {},
   "outputs": [
    {
     "name": "stdout",
     "output_type": "stream",
     "text": [
      "apna naam bataoamit\n"
     ]
    },
    {
     "data": {
      "text/plain": [
       "'amit'"
      ]
     },
     "execution_count": 20,
     "metadata": {},
     "output_type": "execute_result"
    }
   ],
   "source": [
    "input('apna naam batao')"
   ]
  },
  {
   "cell_type": "code",
   "execution_count": 21,
   "id": "c118d3ca",
   "metadata": {},
   "outputs": [
    {
     "name": "stdout",
     "output_type": "stream",
     "text": [
      "enter first no4\n",
      "enter second no4\n",
      "8\n"
     ]
    }
   ],
   "source": [
    "#take input from user and store them in a variable\n",
    "x=int(input(\"enter first no\"))\n",
    "#add the 2 variables\n",
    "y=int(input(\"enter second no\"))\n",
    "result=x+y\n",
    "#print the result\n",
    "print(result)"
   ]
  },
  {
   "cell_type": "markdown",
   "id": "b5056d53",
   "metadata": {},
   "source": [
    "# literals"
   ]
  },
  {
   "cell_type": "code",
   "execution_count": 22,
   "id": "09d6837a",
   "metadata": {},
   "outputs": [
    {
     "name": "stdout",
     "output_type": "stream",
     "text": [
      "10\n"
     ]
    }
   ],
   "source": [
    "#binary\n",
    "a=0b1010\n",
    "print(a)"
   ]
  },
  {
   "cell_type": "code",
   "execution_count": 23,
   "id": "1071c5ef",
   "metadata": {},
   "outputs": [],
   "source": [
    "b=100#decimal literal\n",
    "c=0o310#octal literal\n",
    "d=0x12c#hexadecimal literal\n",
    "#float literal\n",
    "float_1=10.5\n",
    "float_2=1.5e2#1.5*10^2\n",
    "float_3=1.5e-3#1.5*10^-3\n",
    "\n",
    "#complex literal\n",
    "x=3.14j\n"
   ]
  },
  {
   "cell_type": "code",
   "execution_count": 24,
   "id": "7450ceb1",
   "metadata": {},
   "outputs": [
    {
     "name": "stdout",
     "output_type": "stream",
     "text": [
      "2\n",
      "0\n",
      "1\n",
      "-4\n"
     ]
    }
   ],
   "source": [
    "#bitwise operator\n",
    "#and\n",
    "print(2&3)\n",
    "#or\n",
    "print(2&4)\n",
    "#xor\n",
    "print(2^3)\n",
    "#not conver 1 to 0 and 0 to 1\n",
    "print(~3)"
   ]
  },
  {
   "cell_type": "code",
   "execution_count": 25,
   "id": "9138d5b4",
   "metadata": {},
   "outputs": [
    {
     "name": "stdout",
     "output_type": "stream",
     "text": [
      "True\n",
      "False\n"
     ]
    }
   ],
   "source": [
    "#membership operator\n",
    "print('d' in 'delhi')\n",
    "print('d' not in 'delhi')"
   ]
  },
  {
   "cell_type": "code",
   "execution_count": 26,
   "id": "0ae2fbf6",
   "metadata": {},
   "outputs": [
    {
     "name": "stdout",
     "output_type": "stream",
     "text": [
      "enter the three digit sum123\n",
      "3\n",
      "12\n",
      "2\n",
      "1\n",
      "the sum of three digit that you entered is 6\n"
     ]
    }
   ],
   "source": [
    "x=int(input(\"enter the three digit sum\"))\n",
    "y=x%10\n",
    "print(y)\n",
    "z=x//10\n",
    "print(z)\n",
    "a=z%10\n",
    "print(a)\n",
    "b=z//10\n",
    "\n",
    "c=b%10\n",
    "print(c)\n",
    "print(\"the sum of three digit that you entered is\",y+a+c)\n",
    "\n"
   ]
  },
  {
   "cell_type": "markdown",
   "id": "41c63164",
   "metadata": {},
   "source": [
    "# if else in python"
   ]
  },
  {
   "cell_type": "code",
   "execution_count": 27,
   "id": "c8225766",
   "metadata": {},
   "outputs": [
    {
     "name": "stdout",
     "output_type": "stream",
     "text": [
      "enter emailamitkumar@iipe.ac.in\n",
      "enter passwordamitkrr\n",
      "welcome to world of data analytics\n"
     ]
    }
   ],
   "source": [
    "x=input(\"enter email\")\n",
    "y=input('enter password')\n",
    "\n",
    "if x=='amitkumar@iipe.ac.in' and y=='amitkrr':\n",
    "    print(\"welcome to world of data analytics\")\n",
    "elif  x=='amitkumar@iipe.ac.in' and y!='amitkrr':\n",
    "    print(\"incorrect password\")\n",
    "    y=input(\"enter password again\")\n",
    "    if y=='amitkrr':\n",
    "        print(\"welcome to world of data analytics\")\n",
    "    else:\n",
    "        print (\"beta tumse na ho payega\")\n",
    "    \n",
    "else:\n",
    "    print(\"Error try again\")"
   ]
  },
  {
   "cell_type": "code",
   "execution_count": 28,
   "id": "ad3e9357",
   "metadata": {},
   "outputs": [
    {
     "name": "stdout",
     "output_type": "stream",
     "text": [
      "enter first no.4\n",
      "enter second no.6\n",
      "enter third no.5\n",
      "y is greater no among all three no\n"
     ]
    }
   ],
   "source": [
    "\n",
    "x=int(input(\"enter first no.\"))\n",
    "y=int(input(\"enter second no.\"))\n",
    "z=int(input(\"enter third no.\"))\n",
    "if x>y and x>z:\n",
    "    print(\"x is greater no among all three no\")\n",
    "elif y>x and y>z:\n",
    "    print(\"y is greater no among all three no\")\n",
    "elif x==y and y==z and z==x :\n",
    "    print(\"all no are same \")\n",
    "else: \n",
    "    print('z is greater among three no')\n"
   ]
  },
  {
   "cell_type": "code",
   "execution_count": 29,
   "id": "7bda719a",
   "metadata": {},
   "outputs": [
    {
     "name": "stdout",
     "output_type": "stream",
     "text": [
      "enter the first no for operation4\n",
      "enter the second no for operation6\n",
      "enter optertion that you want to perform*\n",
      "the multiplication of no is 24\n"
     ]
    }
   ],
   "source": [
    "#menu driven calculator\n",
    "x= int(input(\"enter the first no for operation\"))\n",
    "y=int(input(\"enter the second no for operation\"))\n",
    "ask= input(\"enter optertion that you want to perform\")\n",
    "if ask=='+':\n",
    "    print(\"the sum of no is\\n\",x+y)\n",
    "elif ask=='-':\n",
    "    print(\"the subtraction of no is\", x-y)\n",
    "elif ask=='*':\n",
    "    print(\"the multiplication of no is\",x*y)\n",
    "elif ask=='/':\n",
    "    print(\"the division of no is\",x/y)\n",
    "else:\n",
    "    print(\"sorry!\\n i can only perform simple operation DMAS\")"
   ]
  },
  {
   "cell_type": "code",
   "execution_count": 38,
   "id": "37f725bf",
   "metadata": {},
   "outputs": [],
   "source": [
    "import math"
   ]
  },
  {
   "cell_type": "code",
   "execution_count": 39,
   "id": "97aba560",
   "metadata": {},
   "outputs": [
    {
     "data": {
      "text/plain": [
       "5.0"
      ]
     },
     "execution_count": 39,
     "metadata": {},
     "output_type": "execute_result"
    }
   ],
   "source": [
    "math.sqrt(25)"
   ]
  },
  {
   "cell_type": "code",
   "execution_count": 40,
   "id": "2f7fec09",
   "metadata": {},
   "outputs": [],
   "source": [
    "import keyword"
   ]
  },
  {
   "cell_type": "code",
   "execution_count": 41,
   "id": "5bae92e0",
   "metadata": {},
   "outputs": [
    {
     "data": {
      "text/plain": [
       "['False',\n",
       " 'None',\n",
       " 'True',\n",
       " 'and',\n",
       " 'as',\n",
       " 'assert',\n",
       " 'async',\n",
       " 'await',\n",
       " 'break',\n",
       " 'class',\n",
       " 'continue',\n",
       " 'def',\n",
       " 'del',\n",
       " 'elif',\n",
       " 'else',\n",
       " 'except',\n",
       " 'finally',\n",
       " 'for',\n",
       " 'from',\n",
       " 'global',\n",
       " 'if',\n",
       " 'import',\n",
       " 'in',\n",
       " 'is',\n",
       " 'lambda',\n",
       " 'nonlocal',\n",
       " 'not',\n",
       " 'or',\n",
       " 'pass',\n",
       " 'raise',\n",
       " 'return',\n",
       " 'try',\n",
       " 'while',\n",
       " 'with',\n",
       " 'yield']"
      ]
     },
     "execution_count": 41,
     "metadata": {},
     "output_type": "execute_result"
    }
   ],
   "source": [
    "keyword.kwlist"
   ]
  },
  {
   "cell_type": "code",
   "execution_count": 42,
   "id": "dd2b1aea",
   "metadata": {},
   "outputs": [],
   "source": [
    "import random"
   ]
  },
  {
   "cell_type": "code",
   "execution_count": 43,
   "id": "3a79168d",
   "metadata": {},
   "outputs": [
    {
     "data": {
      "text/plain": [
       "6.968230253046935"
      ]
     },
     "execution_count": 43,
     "metadata": {},
     "output_type": "execute_result"
    }
   ],
   "source": [
    "random.uniform(7,6)"
   ]
  },
  {
   "cell_type": "code",
   "execution_count": 44,
   "id": "0b40d96d",
   "metadata": {},
   "outputs": [],
   "source": [
    "import datetime"
   ]
  },
  {
   "cell_type": "code",
   "execution_count": 45,
   "id": "3a2f8018",
   "metadata": {},
   "outputs": [
    {
     "ename": "NameError",
     "evalue": "name 'date' is not defined",
     "output_type": "error",
     "traceback": [
      "\u001b[1;31m---------------------------------------------------------------------------\u001b[0m",
      "\u001b[1;31mNameError\u001b[0m                                 Traceback (most recent call last)",
      "Cell \u001b[1;32mIn[45], line 1\u001b[0m\n\u001b[1;32m----> 1\u001b[0m date()\n",
      "\u001b[1;31mNameError\u001b[0m: name 'date' is not defined"
     ]
    }
   ],
   "source": [
    "date()"
   ]
  },
  {
   "cell_type": "code",
   "execution_count": null,
   "id": "f879953f",
   "metadata": {},
   "outputs": [],
   "source": [
    "help('modules')"
   ]
  },
  {
   "cell_type": "code",
   "execution_count": 1,
   "id": "7cd64f05",
   "metadata": {},
   "outputs": [
    {
     "name": "stdout",
     "output_type": "stream",
     "text": [
      "enter the no to get its table:\n",
      "2\n",
      "2 * 1 = 2\n",
      "2 * 2 = 4\n",
      "2 * 3 = 6\n",
      "2 * 4 = 8\n",
      "2 * 5 = 10\n",
      "2 * 6 = 12\n",
      "2 * 7 = 14\n",
      "2 * 8 = 16\n",
      "2 * 9 = 18\n",
      "2 * 10 = 20\n",
      "2 * 11 = 22\n",
      "2 * 12 = 24\n",
      "2 * 13 = 26\n",
      "2 * 14 = 28\n",
      "2 * 15 = 30\n",
      "2 * 16 = 32\n",
      "2 * 17 = 34\n",
      "2 * 18 = 36\n",
      "2 * 19 = 38\n",
      "2 * 20 = 40\n"
     ]
    }
   ],
   "source": [
    "number=int(input(\"enter the no to get its table:\\n\"))\n",
    "i=1\n",
    "while i<21:\n",
    "    print(number,'*',i,'=', number*i)\n",
    "    i=i+1"
   ]
  },
  {
   "cell_type": "code",
   "execution_count": null,
   "id": "c1a3eecd",
   "metadata": {},
   "outputs": [],
   "source": [
    "x=1\n",
    "while x<4:\n",
    "    print(x)\n",
    "    x=x+1\n",
    "else:\n",
    "    print('limit cross')"
   ]
  },
  {
   "cell_type": "code",
   "execution_count": null,
   "id": "dd4af0cb",
   "metadata": {},
   "outputs": [],
   "source": [
    "import random"
   ]
  },
  {
   "cell_type": "code",
   "execution_count": null,
   "id": "ed2918dc",
   "metadata": {},
   "outputs": [],
   "source": [
    "jackport=random.randint(1,100)\n",
    "count=1\n",
    "guess=int(input(\"enter the guessing no\\n\"))\n",
    "while guess!=jackport:\n",
    "    if guess<jackport:\n",
    "        print(\"no is too low than jacport,please try again\")\n",
    "    else:\n",
    "        print('no is too high')\n",
    "        guess=int(input(\"enter the guessing no\\n\"))\n",
    "        count=count+1\n",
    "    \n",
    "else:\n",
    "        print(\"congrats you guess right no\",count)\n",
    "        "
   ]
  },
  {
   "cell_type": "code",
   "execution_count": null,
   "id": "34eb4674",
   "metadata": {},
   "outputs": [],
   "source": [
    "for i in range(1,11):\n",
    "    print (i)"
   ]
  },
  {
   "cell_type": "code",
   "execution_count": 47,
   "id": "cc151345",
   "metadata": {},
   "outputs": [
    {
     "name": "stdout",
     "output_type": "stream",
     "text": [
      "10 10000\n",
      "9 9090.90909090909\n",
      "8 8264.462809917353\n",
      "7 7513.148009015775\n",
      "6 6830.134553650703\n",
      "5 6209.213230591548\n",
      "4 5644.739300537771\n",
      "3 5131.5811823070635\n",
      "2 4665.07380209733\n",
      "1 4240.976183724845\n"
     ]
    }
   ],
   "source": [
    "current=10000\n",
    "for i in range(10,0,-1):\n",
    "    print(i,current)\n",
    "    current=current/1.1"
   ]
  },
  {
   "cell_type": "code",
   "execution_count": null,
   "id": "61f811a5",
   "metadata": {},
   "outputs": [],
   "source": []
  }
 ],
 "metadata": {
  "kernelspec": {
   "display_name": "Python 3 (ipykernel)",
   "language": "python",
   "name": "python3"
  },
  "language_info": {
   "codemirror_mode": {
    "name": "ipython",
    "version": 3
   },
   "file_extension": ".py",
   "mimetype": "text/x-python",
   "name": "python",
   "nbconvert_exporter": "python",
   "pygments_lexer": "ipython3",
   "version": "3.11.5"
  }
 },
 "nbformat": 4,
 "nbformat_minor": 5
}
